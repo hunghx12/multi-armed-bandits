{
 "cells": [
  {
   "cell_type": "markdown",
   "metadata": {
    "tags": []
   },
   "source": [
    "# Multi-armed bandits: LinUCB and MLinUCB\n",
    "\n",
    "This notebook includes the implementation of LinUCB and MLinUCB."
   ]
  },
  {
   "cell_type": "code",
   "execution_count": 1,
   "metadata": {},
   "outputs": [],
   "source": [
    "import numpy as np\n",
    "from abc import ABC, abstractmethod\n",
    "\n",
    "# Type annotations\n",
    "from numpy import ndarray\n",
    "from numpy.random import Generator\n",
    "from typing import List, Deque, Optional, Tuple\n",
    "\n",
    "from sklearn.cluster import KMeans                 \n",
    "from sklearn.linear_model import LogisticRegression\n",
    "from collections import deque                      \n",
    "from scipy.stats import multivariate_normal        \n",
    "import matplotlib.pyplot as plt                    "
   ]
  },
  {
   "cell_type": "markdown",
   "metadata": {},
   "source": [
    "The base `MAB` class below defines a common interface for a contextual multi-armed bandit."
   ]
  },
  {
   "cell_type": "code",
   "execution_count": 2,
   "metadata": {},
   "outputs": [],
   "source": [
    "class MAB(ABC):\n",
    "    \"\"\"Base class for a contextual multi-armed bandit (MAB)\n",
    "    \n",
    "    Parameters\n",
    "    ----------\n",
    "    n_arms : int\n",
    "        Number of arms.\n",
    "        \n",
    "    rng : Generator, optional\n",
    "        A `Generator` used as an internal source of randomness. If None, a \n",
    "        default `Generator` will be constructed using `np.random.default_rng`.\n",
    "    \"\"\"\n",
    "    def __init__(self, n_arms: int, rng: Optional[Generator] = None) -> None:\n",
    "        if not n_arms >= 0:\n",
    "            raise ValueError(\"`n_arms` must be non-negative\")\n",
    "        self.n_arms = n_arms\n",
    "        self.rng = np.random.default_rng(rng)\n",
    "        \n",
    "    @abstractmethod\n",
    "    def play(self, context: ndarray) -> int:\n",
    "        \"\"\"Play a round\n",
    "        \n",
    "        Parameters\n",
    "        ----------        \n",
    "        context : float numpy.ndarray, shape (n_arms, n_dims), optional\n",
    "            An array of context vectors presented to the MAB. The 0-th \n",
    "            axis indexes the arms, and the 1-st axis indexes the features.\n",
    "            Non-contextual bandits accept a context of None.\n",
    "        \n",
    "        Returns\n",
    "        -------\n",
    "        arm : int\n",
    "            Integer index of the arm played this round. Should be in the set \n",
    "            {0, ..., n_arms - 1}.\n",
    "        \"\"\"\n",
    "        \n",
    "    @abstractmethod\n",
    "    def update(self, arm: int, context: ndarray, \n",
    "               reward: Optional[float] = None) -> None:\n",
    "        \"\"\"Update the internal state of the MAB after a play\n",
    "        \n",
    "        Parameters\n",
    "        ----------\n",
    "        arm : int\n",
    "            Integer index of the played arm in the set {0, ..., n_arms - 1}.\n",
    "        \n",
    "        context : float numpy.ndarray, shape (n_arms, n_dims), optional\n",
    "            An array of context vectors that was presented to the MAB. The \n",
    "            0-th axis indexes the arms, and the 1-st axis indexes the \n",
    "            features. Non-contextual bandits accept a context of None.\n",
    "            \n",
    "        reward : float, optional\n",
    "            Reward received from the arm. If None, the reward is missing.\n",
    "        \"\"\"\n",
    "        if arm >= self.n_arms or arm < 0:\n",
    "            raise ValueError(\"`arm` must be in the range \"\n",
    "                             \"[0, {}]\".format(self.n_arms - 1))"
   ]
  },
  {
   "cell_type": "code",
   "execution_count": 3,
   "metadata": {},
   "outputs": [],
   "source": [
    "def eval(mab: MAB, arms: ndarray, rewards: ndarray, contexts: ndarray, \n",
    "                 n_rounds: Optional[int] = None) -> ndarray:\n",
    "    arms = np.asarray(arms)\n",
    "    rewards = np.asarray(rewards)\n",
    "    contexts = np.asarray(contexts)\n",
    "    matched_ctr = 0\n",
    "    matched_ids = list()\n",
    "    for i in range(arms.size):\n",
    "        if matched_ctr >= n_rounds:\n",
    "            break\n",
    "        arm_id = mab.play(contexts[i])\n",
    "        if arm_id == arms[i]:\n",
    "            reward = None if np.isnan(rewards[i]) else rewards[i]\n",
    "            mab.update(arm_id, contexts[i], reward)\n",
    "            matched_ctr += 1\n",
    "            matched_ids.append(i)\n",
    "    \n",
    "    matched_ids = np.array(matched_ids)\n",
    "    return rewards[matched_ids], matched_ids"
   ]
  },
  {
   "cell_type": "code",
   "execution_count": 4,
   "metadata": {},
   "outputs": [],
   "source": [
    "rng = np.random.default_rng(12345)  # Random generator used throughout\n",
    "\n",
    "# Define additional static functions/variables here, if required\n",
    "data = np.loadtxt('dataset.txt', dtype=float)"
   ]
  },
  {
   "cell_type": "markdown",
   "metadata": {},
   "source": [
    "## LinUCB"
   ]
  },
  {
   "cell_type": "code",
   "execution_count": 5,
   "metadata": {},
   "outputs": [],
   "source": [
    "class LinUCB(MAB):\n",
    "    \"\"\"LinUCB\n",
    "\n",
    "    Parameters\n",
    "    ----------\n",
    "    n_arms : int\n",
    "        Number of arms.\n",
    "\n",
    "    n_dims : int\n",
    "        Number of features for each arm's context.\n",
    "\n",
    "    alpha : float\n",
    "        Positive real explore-exploit parameter.\n",
    "    \n",
    "    rng : Generator, optional\n",
    "        A `Generator` used as an internal source of randomness. If None, a \n",
    "        default `Generator` will be constructed using `np.random.default_rng`.\n",
    "    \"\"\"\n",
    "    def __init__(self, n_arms: int, n_dims: int, alpha: float, \n",
    "                 rng: Optional[Generator] = None) -> None:\n",
    "        ... # implement or remove this method\n",
    "        MAB.__init__(self, n_arms, rng)\n",
    "        self.n_dims = n_dims\n",
    "        self.alpha = alpha\n",
    "        \n",
    "        # Initialise n_arms d-dimensional identity matrix As and n_arms d-dimensional zero vector cs\n",
    "        self.As = np.array([np.identity(n_dims) for i in range(n_arms)])\n",
    "        self.cs = np.array([np.zeros([n_dims,1]) for i in range(n_arms)])\n",
    "        \n",
    "    def play(self, context: ndarray) -> int:\n",
    "        ... # implement or remove this method\n",
    "        highest_ucb = -1\n",
    "        candidate_arms = []\n",
    "        \n",
    "        for arm_index in range(self.n_arms):\n",
    "            # calculate ucb\n",
    "            A = self.As[arm_index]\n",
    "            c = self.cs[arm_index]\n",
    "            x = context[arm_index][:, np.newaxis] # to column vector\n",
    "            \n",
    "            A_inv = np.linalg.inv(A)\n",
    "            theta_hat = np.dot(A_inv, c)\n",
    "            \n",
    "            p = np.dot(theta_hat.T, x) + self.alpha * np.sqrt(np.dot(x.T, np.dot(A_inv,x)))\n",
    "            if p > highest_ucb:\n",
    "                highest_ucb = p\n",
    "                candidate_arms = [arm_index]\n",
    "            elif p == highest_ucb:\n",
    "                candidate_arms.append(arm_index)\n",
    "        return rng.choice(candidate_arms)\n",
    "        \n",
    "    \n",
    "    def update(self, arm: int, context: ndarray, \n",
    "               reward: Optional[float] = None) -> None:\n",
    "        ... # implement or remove this method\n",
    "        if reward is None:\n",
    "            return\n",
    "        x = context[arm][:, np.newaxis] # to column vector\n",
    "        self.As[arm] += np.dot(x, x.T)\n",
    "        self.cs[arm] += reward * x\n",
    "        "
   ]
  },
  {
   "cell_type": "code",
   "execution_count": 6,
   "metadata": {},
   "outputs": [],
   "source": [
    "# Load dataset here\n",
    "arms = data[:, 0]\n",
    "rewards = data[:,1]\n",
    "contexts = data[:,3:103].reshape(data.shape[0], 10, 10)"
   ]
  },
  {
   "cell_type": "code",
   "execution_count": 7,
   "metadata": {},
   "outputs": [
    {
     "name": "stdout",
     "output_type": "stream",
     "text": [
      "LinUCB average reward 0.53\n"
     ]
    }
   ],
   "source": [
    "mab = LinUCB(10, 10, 1.0, rng)\n",
    "LinUCB_rewards, _ = eval(mab, arms, rewards, contexts, 800)\n",
    "print('LinUCB average reward', np.mean(LinUCB_rewards))"
   ]
  },
  {
   "cell_type": "code",
   "execution_count": 8,
   "metadata": {},
   "outputs": [
    {
     "data": {
      "text/plain": [
       "[<matplotlib.lines.Line2D at 0x7ffac4b21ca0>]"
      ]
     },
     "execution_count": 8,
     "metadata": {},
     "output_type": "execute_result"
    },
    {
     "data": {
      "image/png": "[encoded data removed]",
      "text/plain": [
       "<Figure size 432x288 with 1 Axes>"
      ]
     },
     "metadata": {
      "needs_background": "light"
     },
     "output_type": "display_data"
    },
    {
     "data": {
      "image/png": "[encoded data removed]",
      "text/plain": [
       "<Figure size 432x288 with 1 Axes>"
      ]
     },
     "metadata": {
      "needs_background": "light"
     },
     "output_type": "display_data"
    }
   ],
   "source": [
    "# Use additional cells here for experimentation\n",
    "cumulative = np.cumsum(LinUCB_rewards)\n",
    "for i in range(len(cumulative)):\n",
    "    cumulative[i] =  cumulative[i] / (i + 1)\n",
    "\n",
    "plt.figure(0)\n",
    "plt.xlabel('nth round')\n",
    "plt.ylabel('cumulative mean until nth round')\n",
    "plt.title('Per-round cumulative mean of rewards')\n",
    "plt.plot(range(len(cumulative)), cumulative)\n",
    "\n",
    "alpha_grid = [0.005, 0.01, 0.05, 0.1, 0.5, 1, 2]\n",
    "rewards_mean_tuning = []\n",
    "for alpha_tuning in alpha_grid:\n",
    "    mab = LinUCB(10, 10, alpha_tuning, rng)\n",
    "    LinUCB_rewards, a = eval(mab, arms, rewards, contexts, 800)\n",
    "    rewards_mean_tuning.append(np.mean(LinUCB_rewards))\n",
    "    \n",
    "plt.figure(1)\n",
    "plt.xlabel('alpha')\n",
    "plt.ylabel('Mean LinUCB reward')\n",
    "plt.title('Tuning alpha')\n",
    "plt.plot(alpha_grid, rewards_mean_tuning)\n",
    "\n",
    "# The value of alpha that gives the best mean rewards value is 0.01"
   ]
  },
  {
   "cell_type": "markdown",
   "metadata": {},
   "source": [
    "## MLinUCB"
   ]
  },
  {
   "cell_type": "code",
   "execution_count": 9,
   "metadata": {},
   "outputs": [],
   "source": [
    "class MLinUCB(MAB):\n",
    "    \"\"\"MLinUCB\"\"\"\n",
    "    def __init__(self, n_arms: int, n_dims: int, alpha: float, N: int, m: int, \n",
    "                 rng: Optional[Generator] = None) -> None:\n",
    "        ... # implement or remove this method\n",
    "        MAB.__init__(self, n_arms, rng)\n",
    "        self.n_dims = n_dims\n",
    "        self.alpha = alpha\n",
    "        self.N = N\n",
    "        self.m = m\n",
    "        \n",
    "        # Initialise n_arms d-dimensional identity matrix As and n_arms d-dimensional zero vector cs\n",
    "        self.As = np.array([np.identity(n_dims) for i in range(n_arms)])\n",
    "        self.cs = np.array([np.zeros([n_dims,1]) for i in range(n_arms)])\n",
    "        \n",
    "        # Context history grouped by arms, updated up to the t step.\n",
    "        self.updated_contexts = dict()\n",
    "        \n",
    "    def play(self, context: ndarray) -> int:\n",
    "        ... # implement or remove this method\n",
    "        max_ucb = -1\n",
    "        candidat_arms = []\n",
    "        for arm_index in range(self.n_arms):\n",
    "            # calculate ucb\n",
    "            A = self.As[arm_index]\n",
    "            c = self.cs[arm_index]\n",
    "            x = context[arm_index][:, np.newaxis] # to column vector\n",
    "            A_inv = np.linalg.inv(A)\n",
    "            theta_hat = np.dot(A_inv, c)\n",
    "            p = np.dot(theta_hat.T, x) + self.alpha * np.sqrt(np.dot(x.T, np.dot(A_inv,x)))\n",
    "            if p > max_ucb:\n",
    "                max_ucb = p\n",
    "                candidate_arms = [arm_index]\n",
    "            elif p == max_ucb:\n",
    "                candidate_arms.append(arm_index)\n",
    "        return rng.choice(candidate_arms)\n",
    "    \n",
    "    def update(self, arm: int, context: ndarray, \n",
    "               reward: Optional[float] = None) -> None:\n",
    "        ... # implement or remove this method\n",
    "        x = context[arm][:, np.newaxis] # to column vector\n",
    "        self.As[arm] += np.dot(x, x.T)\n",
    "        if reward is None:\n",
    "            if arm not in self.updated_contexts:\n",
    "                # no arm pulled context in the context history to compare.\n",
    "                return\n",
    "            \n",
    "            arm_contexts = np.array([action['context'] for action in self.updated_contexts[arm]])\n",
    "            arm_rewards = np.array([action['reward'] for action in self.updated_contexts[arm]])\n",
    "            \n",
    "            n_clusters = min(self.N, arm_contexts.shape[0])\n",
    "            \n",
    "            random_state = np.random.RandomState(rng.bit_generator)\n",
    "            kmeans = KMeans(n_clusters = n_clusters, random_state=random_state).fit(arm_contexts)\n",
    "            \n",
    "            # Euclidean distance of current context to all centroids\n",
    "            dists = np.array([np.linalg.norm(context.flatten() - centroid) for centroid in kmeans.cluster_centers_])\n",
    "            m_closest_centroids = dists.argsort()[:min(self.m, arm_contexts.shape[0])]\n",
    "            \n",
    "            sum_rj_bar_divide_dist = 0 # g(x) numerator\n",
    "            sum_dist_inv = 0.1 # g(x) denominator\n",
    "            \n",
    "            for j in m_closest_centroids:\n",
    "                # filter by clusters\n",
    "                indx = np.where(kmeans.labels_ == j)\n",
    "                rj_bar = sum(arm_rewards[indx]) / len(arm_rewards[indx])\n",
    "                sum_rj_bar_divide_dist += rj_bar / (0.1 + dists[j])\n",
    "                sum_dist_inv += 1 / (0.1 + dists[j])\n",
    "                \n",
    "            reward = sum_rj_bar_divide_dist / sum_dist_inv\n",
    "        else:\n",
    "            # Update the current context history with existed reward\n",
    "            if arm not in self.updated_contexts:\n",
    "                self.updated_contexts[arm] = []\n",
    "            self.updated_contexts[arm].append({'reward': reward, 'context': np.array(context.flatten())})\n",
    "            \n",
    "        self.cs[arm] += reward * x"
   ]
  },
  {
   "cell_type": "code",
   "execution_count": 10,
   "metadata": {},
   "outputs": [],
   "source": [
    "# Define rewards_missing here - the rewards array from above where missing values are represented as np.nan\n",
    "missing_flags = data[:, 2]\n",
    "rewards_missing = np.copy(rewards)\n",
    "rewards_missing[np.where(missing_flags == 0)] = np.nan"
   ]
  },
  {
   "cell_type": "code",
   "execution_count": 11,
   "metadata": {},
   "outputs": [
    {
     "name": "stdout",
     "output_type": "stream",
     "text": [
      "MLinUCB average reward 0.4625\n",
      "LinUCB average reward 0.39\n"
     ]
    }
   ],
   "source": [
    "mab = MLinUCB(10, 10, 1.0, 10, 3, rng)\n",
    "MLinUCB_rewards, MLinUCB_ids = eval(mab, arms, rewards_missing, contexts, 800)\n",
    "print('MLinUCB average reward', np.mean(rewards[MLinUCB_ids]))\n",
    "\n",
    "mab = LinUCB(10, 10, 1.0, rng)\n",
    "LinUCB_rewards, LinUCB_ids = eval(mab, arms, rewards_missing, contexts, 800)\n",
    "print('LinUCB average reward', np.mean(rewards[LinUCB_ids]))"
   ]
  },
  {
   "cell_type": "code",
   "execution_count": 12,
   "metadata": {
    "scrolled": true
   },
   "outputs": [
    {
     "data": {
      "image/png": "[encoded data removed]",
      "text/plain": [
       "<Figure size 432x288 with 1 Axes>"
      ]
     },
     "metadata": {
      "needs_background": "light"
     },
     "output_type": "display_data"
    },
    {
     "name": "stdout",
     "output_type": "stream",
     "text": [
      "The best rewards mean: 0.65125 achieved by alpha = 0.1 , N = 8 , m = 3\n"
     ]
    }
   ],
   "source": [
    "MLinUCB_rewards_cumulative = np.nancumsum(rewards[MLinUCB_ids])\n",
    "for i in range(len(MLinUCB_rewards_cumulative)):\n",
    "    MLinUCB_rewards_cumulative[i] =  MLinUCB_rewards_cumulative[i] / (i + 1)\n",
    "    \n",
    "LinUCB_rewards_cumulative = np.nancumsum(rewards[LinUCB_ids])\n",
    "for i in range(len(LinUCB_rewards_cumulative)):\n",
    "    LinUCB_rewards_cumulative[i] = LinUCB_rewards_cumulative[i] / (i + 1)\n",
    "\n",
    "plt.plot(range(len(MLinUCB_rewards_cumulative)), MLinUCB_rewards_cumulative, color ='orange', markersize = 12, label ='MLinUCB rewards')\n",
    "plt.plot(range(len(LinUCB_rewards_cumulative)), LinUCB_rewards_cumulative, color ='green', markersize = 12, label ='LinUCB rewards')\n",
    "plt.xlabel('nth round')\n",
    "plt.ylabel('cumulative mean until nth round')\n",
    "plt.title('Per-round cumulative mean of reward')\n",
    "plt.legend()\n",
    "plt.show()\n",
    "\n",
    "# Tuning alpha, N and m by grid search\n",
    "alpha_grid = [0.01, 0.1, 0.5, 1]\n",
    "N_grid = range(8, 11, 1)\n",
    "m_grid = range(3, 6, 1)\n",
    "\n",
    "best_mean_MLinUCB_rewards = -1\n",
    "best_alpha = best_N = best_m = -1\n",
    "\n",
    "for x in range(len(alpha_grid)):\n",
    "    for y in range(len(N_grid)):\n",
    "        for z in range(len(m_grid)):\n",
    "            alpha_tuning = alpha_grid[x]\n",
    "            N_tuning = N_grid[y]\n",
    "            m_tuning = m_grid[z]\n",
    "            mab = MLinUCB(10, 10, alpha_tuning, N_tuning, m_tuning, rng)\n",
    "            MLinUCB_rewards, MLinUCB_ids = eval(mab, arms, rewards_missing, contexts, 800)\n",
    "            if np.mean(rewards[MLinUCB_ids]) > best_mean_MLinUCB_rewards:\n",
    "                best_mean_MLinUCB_rewards = np.mean(rewards[MLinUCB_ids])\n",
    "                best_alpha, best_N, best_m = alpha_grid[x], N_grid[y], m_grid[z]\n",
    "\n",
    "# Output the values of alpha, N and m that give the best result of rewards mean using grid search\n",
    "print('The best rewards mean:', best_mean_MLinUCB_rewards, 'achieved by alpha =', best_alpha, ', N =', best_N, ', m =', best_m)"
   ]
  }
 ],
 "metadata": {
  "kernelspec": {
   "display_name": "Python 3",
   "language": "python",
   "name": "python3"
  },
  "language_info": {
   "codemirror_mode": {
    "name": "ipython",
    "version": 3
   },
   "file_extension": ".py",
   "mimetype": "text/x-python",
   "name": "python",
   "nbconvert_exporter": "python",
   "pygments_lexer": "ipython3",
   "version": "3.8.8"
  }
 },
 "nbformat": 4,
 "nbformat_minor": 4
}
